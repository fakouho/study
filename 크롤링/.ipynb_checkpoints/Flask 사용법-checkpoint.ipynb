{
 "cells": [
  {
   "cell_type": "markdown",
   "id": "6f5a5f61",
   "metadata": {},
   "source": [
    "# 1. Flask 사용하기"
   ]
  },
  {
   "cell_type": "markdown",
   "id": "642790db",
   "metadata": {},
   "source": [
    "## 1.1 필요한 라이브러리 설치"
   ]
  },
  {
   "cell_type": "code",
   "execution_count": 3,
   "id": "33083e54",
   "metadata": {
    "collapsed": true
   },
   "outputs": [
    {
     "name": "stdout",
     "output_type": "stream",
     "text": [
      "Requirement already satisfied: flask in c:\\users\\smhrd\\anaconda3\\lib\\site-packages (2.2.2)\n",
      "Requirement already satisfied: Werkzeug>=2.2.2 in c:\\users\\smhrd\\anaconda3\\lib\\site-packages (from flask) (2.2.3)\n",
      "Requirement already satisfied: Jinja2>=3.0 in c:\\users\\smhrd\\anaconda3\\lib\\site-packages (from flask) (3.1.2)\n",
      "Requirement already satisfied: itsdangerous>=2.0 in c:\\users\\smhrd\\anaconda3\\lib\\site-packages (from flask) (2.0.1)\n",
      "Requirement already satisfied: click>=8.0 in c:\\users\\smhrd\\anaconda3\\lib\\site-packages (from flask) (8.0.4)\n",
      "Requirement already satisfied: colorama in c:\\users\\smhrd\\anaconda3\\lib\\site-packages (from click>=8.0->flask) (0.4.6)\n",
      "Requirement already satisfied: MarkupSafe>=2.0 in c:\\users\\smhrd\\anaconda3\\lib\\site-packages (from Jinja2>=3.0->flask) (2.1.1)\n",
      "Collecting flask_cors\n",
      "  Obtaining dependency information for flask_cors from https://files.pythonhosted.org/packages/10/69/1e6cfb87117568a9de088c32d6258219e9d1ff7c131abf74249ef2031279/Flask_Cors-4.0.0-py2.py3-none-any.whl.metadata\n",
      "  Downloading Flask_Cors-4.0.0-py2.py3-none-any.whl.metadata (5.4 kB)\n",
      "Requirement already satisfied: Flask>=0.9 in c:\\users\\smhrd\\anaconda3\\lib\\site-packages (from flask_cors) (2.2.2)\n",
      "Requirement already satisfied: Werkzeug>=2.2.2 in c:\\users\\smhrd\\anaconda3\\lib\\site-packages (from Flask>=0.9->flask_cors) (2.2.3)\n",
      "Requirement already satisfied: Jinja2>=3.0 in c:\\users\\smhrd\\anaconda3\\lib\\site-packages (from Flask>=0.9->flask_cors) (3.1.2)\n",
      "Requirement already satisfied: itsdangerous>=2.0 in c:\\users\\smhrd\\anaconda3\\lib\\site-packages (from Flask>=0.9->flask_cors) (2.0.1)\n",
      "Requirement already satisfied: click>=8.0 in c:\\users\\smhrd\\anaconda3\\lib\\site-packages (from Flask>=0.9->flask_cors) (8.0.4)\n",
      "Requirement already satisfied: colorama in c:\\users\\smhrd\\anaconda3\\lib\\site-packages (from click>=8.0->Flask>=0.9->flask_cors) (0.4.6)\n",
      "Requirement already satisfied: MarkupSafe>=2.0 in c:\\users\\smhrd\\anaconda3\\lib\\site-packages (from Jinja2>=3.0->Flask>=0.9->flask_cors) (2.1.1)\n",
      "Downloading Flask_Cors-4.0.0-py2.py3-none-any.whl (14 kB)\n",
      "Installing collected packages: flask_cors\n",
      "Successfully installed flask_cors-4.0.0\n"
     ]
    }
   ],
   "source": [
    "!pip install flask\n",
    "!pip install flask_cors"
   ]
  },
  {
   "cell_type": "markdown",
   "id": "11114631",
   "metadata": {},
   "source": [
    "## 1.2 라이브러리 import"
   ]
  },
  {
   "cell_type": "code",
   "execution_count": 21,
   "id": "1d4473d8",
   "metadata": {},
   "outputs": [],
   "source": [
    "# Flask > 서버를 생성해줄 도구\n",
    "# request > 요청에 대한 정보를 가지고 있는\n",
    "# make_response > 응답 객체를 만들어줄때 사용하는 함수\n",
    "# redirect > 이동해야하는 페이지가 있을 때 사용\n",
    "from flask import Flask,request\n",
    "# CORS > 동일출처정책을 잡아주는 객체\n",
    "from flask_cors import CORS"
   ]
  },
  {
   "cell_type": "markdown",
   "id": "aab274d9",
   "metadata": {},
   "source": [
    "## 1.3 Flask 서버 열어주기"
   ]
  },
  {
   "cell_type": "code",
   "execution_count": 23,
   "id": "8c42888f",
   "metadata": {},
   "outputs": [
    {
     "name": "stdout",
     "output_type": "stream",
     "text": [
      " * Serving Flask app '__main__'\n",
      " * Debug mode: off\n"
     ]
    },
    {
     "name": "stderr",
     "output_type": "stream",
     "text": [
      "WARNING: This is a development server. Do not use it in a production deployment. Use a production WSGI server instead.\n",
      " * Running on http://127.0.0.1:9000\n",
      "Press CTRL+C to quit\n",
      "127.0.0.1 - - [13/Mar/2024 16:18:20] \"GET / HTTP/1.1\" 200 -\n"
     ]
    },
    {
     "name": "stdout",
     "output_type": "stream",
     "text": [
      "None\n"
     ]
    },
    {
     "name": "stderr",
     "output_type": "stream",
     "text": [
      "127.0.0.1 - - [13/Mar/2024 16:19:04] \"GET /?name=ㄷㄷㄷ HTTP/1.1\" 200 -\n"
     ]
    },
    {
     "name": "stdout",
     "output_type": "stream",
     "text": [
      "ㄷㄷㄷ\n"
     ]
    }
   ],
   "source": [
    "# Flask객체(=서버를 구동할 객체) 생성\n",
    "app = Flask(__name__)\n",
    "# CORS 허용\n",
    "CORS(app)\n",
    "\n",
    "# 라우터 생성\n",
    "@app.route(\"/\",methods=[\"GET\"])\n",
    "def test() :\n",
    "    # 요청데이터 꺼내오기\n",
    "    # get방식일 때 데이터 꺼내오는 방법\n",
    "    name = request.args.get(\"name\")\n",
    "    # post 방식을 때 데이터 꺼내오는 방법\n",
    "    # request.from.get('name값')\n",
    "    \n",
    "    result=img_crawling(name)\n",
    "    \n",
    "    #비동기통신으로 요청이 들어왔을 때, 돌려줄 데이터가 있드면\n",
    "    return result\n",
    "\n",
    "\n",
    "\n",
    "\n",
    "# app 설정 마무리\n",
    "if __name__ == \"__main__\" :\n",
    "    app.run(host=\"127.0.0.1\",port=\"9000\")"
   ]
  },
  {
   "cell_type": "markdown",
   "id": "c8345f67",
   "metadata": {},
   "source": [
    "# 2. 크롤링 코드 작성하기"
   ]
  },
  {
   "cell_type": "markdown",
   "id": "96e9b9d3",
   "metadata": {},
   "source": [
    "## 2.1 필요한 라이브러리 가져오기"
   ]
  },
  {
   "cell_type": "code",
   "execution_count": 41,
   "id": "c90f8268",
   "metadata": {},
   "outputs": [],
   "source": [
    "from selenium import webdriver as wb\n",
    "from selenium.webdriver.common.by import By\n",
    "from selenium.webdriver.common.keys import Keys\n",
    "import time\n",
    "# 파일시스템을 위한 라이브러리(파일,폴더를 삭제,생성 하는 라이브러리)\n",
    "import os\n",
    "# 이미지의 url을 실제 파일로 변환하는 라이브러리\n",
    "from urllib.request import urlretrieve"
   ]
  },
  {
   "cell_type": "markdown",
   "id": "27e7d043",
   "metadata": {},
   "source": [
    "## 2.2 코드 작성하기"
   ]
  },
  {
   "cell_type": "code",
   "execution_count": 42,
   "id": "85ea61df",
   "metadata": {},
   "outputs": [],
   "source": [
    "# 네이버 페이지 -> 아이유 검색 -> enter -> 이미지 탭 이동-> 이미지 한개만 가져오기\n"
   ]
  },
  {
   "cell_type": "code",
   "execution_count": 62,
   "id": "158b9328",
   "metadata": {},
   "outputs": [],
   "source": [
    "# 지금까지 작성한 코드를 하나의 함수로 만들기\n",
    "def img_crawling(name) :\n",
    "    driver = wb.Chrome()\n",
    "    driver.get(\"https://www.naver.com/\")\n",
    "    search=driver.find_element(By.ID,\"query\")\n",
    "    search.send_keys(name)\n",
    "    search.send_keys(Keys.ENTER)\n",
    "    tap=driver.find_element(By.CSS_SELECTOR,\"#lnb > div.lnb_group > div > div.lnb_nav_area._nav_area_root > div > div.api_flicking_wrap._conveyer_root > div:nth-child(1) > a\")\n",
    "    tap.click()\n",
    "    time.sleep(0.5)\n",
    "    img = driver.find_elements(By.CSS_SELECTOR,\"#main_pack > section.sc_new.sp_nimage._fe_image_viewer_prepend_target > div.api_subject_bx._fe_image_tab_list_root.ani_fadein > div > div > div.image_tile._fe_image_tab_grid > div > div > div > div > img\")\n",
    "    return img[0].get_attribute(\"src\")"
   ]
  },
  {
   "cell_type": "code",
   "execution_count": 61,
   "id": "2615d7d5",
   "metadata": {},
   "outputs": [
    {
     "data": {
      "text/plain": [
       "'https://search.pstatic.net/common/?src=http%3A%2F%2Fimgnews.naver.net%2Fimage%2F5496%2F2023%2F10%2F06%2F0000007374_001_20231006125202116.jpg&type=a340'"
      ]
     },
     "execution_count": 61,
     "metadata": {},
     "output_type": "execute_result"
    }
   ],
   "source": [
    "driver = wb.Chrome()\n",
    "driver.get(\"https://www.naver.com/\")\n",
    "search=driver.find_element(By.ID,\"query\")\n",
    "search.send_keys(\"아이유\")\n",
    "search.send_keys(Keys.ENTER)\n",
    "#이미지 탭 이동\n",
    "tap=driver.find_element(By.CSS_SELECTOR,\"#lnb > div.lnb_group > div > div.lnb_nav_area._nav_area_root > div > div.api_flicking_wrap._conveyer_root > div:nth-child(1) > a\")\n",
    "tap.click()\n",
    "#0.5초 쉬어주기\n",
    "time.sleep(0.5)\n",
    "# 이미지들을 가져오기\n",
    "img = driver.find_elements(By.CSS_SELECTOR,\"#main_pack > section.sc_new.sp_nimage._fe_image_viewer_prepend_target > div.api_subject_bx._fe_image_tab_list_root.ani_fadein > div > div > div.image_tile._fe_image_tab_grid > div > div > div > div > img\")\n",
    "# 첫번째 이미지의 src만 가져오기\n",
    "img[0].get_attribute(\"src\")"
   ]
  },
  {
   "cell_type": "code",
   "execution_count": 53,
   "id": "6e297e24",
   "metadata": {},
   "outputs": [],
   "source": []
  },
  {
   "cell_type": "code",
   "execution_count": 51,
   "id": "45507485",
   "metadata": {},
   "outputs": [
    {
     "ename": "InvalidArgumentException",
     "evalue": "Message: invalid argument: 'value' must be a string\n  (Session info: chrome=122.0.6261.112)\nStacktrace:\n\tGetHandleVerifier [0x00007FF6CAEBAD02+56930]\n\t(No symbol) [0x00007FF6CAE2F602]\n\t(No symbol) [0x00007FF6CACE42E5]\n\t(No symbol) [0x00007FF6CAD297BC]\n\t(No symbol) [0x00007FF6CAD29A2C]\n\t(No symbol) [0x00007FF6CAD6A997]\n\t(No symbol) [0x00007FF6CAD4BCDF]\n\t(No symbol) [0x00007FF6CAD681E2]\n\t(No symbol) [0x00007FF6CAD4BA43]\n\t(No symbol) [0x00007FF6CAD1D438]\n\t(No symbol) [0x00007FF6CAD1E4D1]\n\tGetHandleVerifier [0x00007FF6CB236F8D+3711213]\n\tGetHandleVerifier [0x00007FF6CB2904CD+4077101]\n\tGetHandleVerifier [0x00007FF6CB28865F+4044735]\n\tGetHandleVerifier [0x00007FF6CAF59736+706710]\n\t(No symbol) [0x00007FF6CAE3B8DF]\n\t(No symbol) [0x00007FF6CAE36AC4]\n\t(No symbol) [0x00007FF6CAE36C1C]\n\t(No symbol) [0x00007FF6CAE268D4]\n\tBaseThreadInitThunk [0x00007FF8E9317344+20]\n\tRtlUserThreadStart [0x00007FF8EA6626B1+33]\n",
     "output_type": "error",
     "traceback": [
      "\u001b[1;31m---------------------------------------------------------------------------\u001b[0m",
      "\u001b[1;31mInvalidArgumentException\u001b[0m                  Traceback (most recent call last)",
      "Cell \u001b[1;32mIn[51], line 1\u001b[0m\n\u001b[1;32m----> 1\u001b[0m driver\u001b[38;5;241m.\u001b[39mfind_elements(By\u001b[38;5;241m.\u001b[39mCSS_SELECTOR,)\n",
      "File \u001b[1;32m~\\anaconda3\\Lib\\site-packages\\selenium\\webdriver\\remote\\webdriver.py:771\u001b[0m, in \u001b[0;36mWebDriver.find_elements\u001b[1;34m(self, by, value)\u001b[0m\n\u001b[0;32m    767\u001b[0m     value \u001b[38;5;241m=\u001b[39m \u001b[38;5;124mf\u001b[39m\u001b[38;5;124m'\u001b[39m\u001b[38;5;124m[name=\u001b[39m\u001b[38;5;124m\"\u001b[39m\u001b[38;5;132;01m{\u001b[39;00mvalue\u001b[38;5;132;01m}\u001b[39;00m\u001b[38;5;124m\"\u001b[39m\u001b[38;5;124m]\u001b[39m\u001b[38;5;124m'\u001b[39m\n\u001b[0;32m    769\u001b[0m \u001b[38;5;66;03m# Return empty list if driver returns null\u001b[39;00m\n\u001b[0;32m    770\u001b[0m \u001b[38;5;66;03m# See https://github.com/SeleniumHQ/selenium/issues/4555\u001b[39;00m\n\u001b[1;32m--> 771\u001b[0m \u001b[38;5;28;01mreturn\u001b[39;00m \u001b[38;5;28mself\u001b[39m\u001b[38;5;241m.\u001b[39mexecute(Command\u001b[38;5;241m.\u001b[39mFIND_ELEMENTS, {\u001b[38;5;124m\"\u001b[39m\u001b[38;5;124musing\u001b[39m\u001b[38;5;124m\"\u001b[39m: by, \u001b[38;5;124m\"\u001b[39m\u001b[38;5;124mvalue\u001b[39m\u001b[38;5;124m\"\u001b[39m: value})[\u001b[38;5;124m\"\u001b[39m\u001b[38;5;124mvalue\u001b[39m\u001b[38;5;124m\"\u001b[39m] \u001b[38;5;129;01mor\u001b[39;00m []\n",
      "File \u001b[1;32m~\\anaconda3\\Lib\\site-packages\\selenium\\webdriver\\remote\\webdriver.py:347\u001b[0m, in \u001b[0;36mWebDriver.execute\u001b[1;34m(self, driver_command, params)\u001b[0m\n\u001b[0;32m    345\u001b[0m response \u001b[38;5;241m=\u001b[39m \u001b[38;5;28mself\u001b[39m\u001b[38;5;241m.\u001b[39mcommand_executor\u001b[38;5;241m.\u001b[39mexecute(driver_command, params)\n\u001b[0;32m    346\u001b[0m \u001b[38;5;28;01mif\u001b[39;00m response:\n\u001b[1;32m--> 347\u001b[0m     \u001b[38;5;28mself\u001b[39m\u001b[38;5;241m.\u001b[39merror_handler\u001b[38;5;241m.\u001b[39mcheck_response(response)\n\u001b[0;32m    348\u001b[0m     response[\u001b[38;5;124m\"\u001b[39m\u001b[38;5;124mvalue\u001b[39m\u001b[38;5;124m\"\u001b[39m] \u001b[38;5;241m=\u001b[39m \u001b[38;5;28mself\u001b[39m\u001b[38;5;241m.\u001b[39m_unwrap_value(response\u001b[38;5;241m.\u001b[39mget(\u001b[38;5;124m\"\u001b[39m\u001b[38;5;124mvalue\u001b[39m\u001b[38;5;124m\"\u001b[39m, \u001b[38;5;28;01mNone\u001b[39;00m))\n\u001b[0;32m    349\u001b[0m     \u001b[38;5;28;01mreturn\u001b[39;00m response\n",
      "File \u001b[1;32m~\\anaconda3\\Lib\\site-packages\\selenium\\webdriver\\remote\\errorhandler.py:229\u001b[0m, in \u001b[0;36mErrorHandler.check_response\u001b[1;34m(self, response)\u001b[0m\n\u001b[0;32m    227\u001b[0m         alert_text \u001b[38;5;241m=\u001b[39m value[\u001b[38;5;124m\"\u001b[39m\u001b[38;5;124malert\u001b[39m\u001b[38;5;124m\"\u001b[39m]\u001b[38;5;241m.\u001b[39mget(\u001b[38;5;124m\"\u001b[39m\u001b[38;5;124mtext\u001b[39m\u001b[38;5;124m\"\u001b[39m)\n\u001b[0;32m    228\u001b[0m     \u001b[38;5;28;01mraise\u001b[39;00m exception_class(message, screen, stacktrace, alert_text)  \u001b[38;5;66;03m# type: ignore[call-arg]  # mypy is not smart enough here\u001b[39;00m\n\u001b[1;32m--> 229\u001b[0m \u001b[38;5;28;01mraise\u001b[39;00m exception_class(message, screen, stacktrace)\n",
      "\u001b[1;31mInvalidArgumentException\u001b[0m: Message: invalid argument: 'value' must be a string\n  (Session info: chrome=122.0.6261.112)\nStacktrace:\n\tGetHandleVerifier [0x00007FF6CAEBAD02+56930]\n\t(No symbol) [0x00007FF6CAE2F602]\n\t(No symbol) [0x00007FF6CACE42E5]\n\t(No symbol) [0x00007FF6CAD297BC]\n\t(No symbol) [0x00007FF6CAD29A2C]\n\t(No symbol) [0x00007FF6CAD6A997]\n\t(No symbol) [0x00007FF6CAD4BCDF]\n\t(No symbol) [0x00007FF6CAD681E2]\n\t(No symbol) [0x00007FF6CAD4BA43]\n\t(No symbol) [0x00007FF6CAD1D438]\n\t(No symbol) [0x00007FF6CAD1E4D1]\n\tGetHandleVerifier [0x00007FF6CB236F8D+3711213]\n\tGetHandleVerifier [0x00007FF6CB2904CD+4077101]\n\tGetHandleVerifier [0x00007FF6CB28865F+4044735]\n\tGetHandleVerifier [0x00007FF6CAF59736+706710]\n\t(No symbol) [0x00007FF6CAE3B8DF]\n\t(No symbol) [0x00007FF6CAE36AC4]\n\t(No symbol) [0x00007FF6CAE36C1C]\n\t(No symbol) [0x00007FF6CAE268D4]\n\tBaseThreadInitThunk [0x00007FF8E9317344+20]\n\tRtlUserThreadStart [0x00007FF8EA6626B1+33]\n"
     ]
    }
   ],
   "source": []
  },
  {
   "cell_type": "code",
   "execution_count": null,
   "id": "803850be",
   "metadata": {},
   "outputs": [],
   "source": []
  },
  {
   "cell_type": "code",
   "execution_count": null,
   "id": "b3c37e68",
   "metadata": {},
   "outputs": [],
   "source": []
  },
  {
   "cell_type": "code",
   "execution_count": null,
   "id": "7d644e5b",
   "metadata": {},
   "outputs": [],
   "source": []
  },
  {
   "cell_type": "code",
   "execution_count": null,
   "id": "f8f608b3",
   "metadata": {},
   "outputs": [],
   "source": []
  },
  {
   "cell_type": "code",
   "execution_count": null,
   "id": "e3bc1d01",
   "metadata": {},
   "outputs": [],
   "source": []
  },
  {
   "cell_type": "code",
   "execution_count": null,
   "id": "b9bcd37c",
   "metadata": {},
   "outputs": [],
   "source": []
  }
 ],
 "metadata": {
  "kernelspec": {
   "display_name": "Python 3 (ipykernel)",
   "language": "python",
   "name": "python3"
  },
  "language_info": {
   "codemirror_mode": {
    "name": "ipython",
    "version": 3
   },
   "file_extension": ".py",
   "mimetype": "text/x-python",
   "name": "python",
   "nbconvert_exporter": "python",
   "pygments_lexer": "ipython3",
   "version": "3.11.5"
  }
 },
 "nbformat": 4,
 "nbformat_minor": 5
}
