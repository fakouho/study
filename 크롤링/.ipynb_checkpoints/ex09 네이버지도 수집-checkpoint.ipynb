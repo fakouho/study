{
 "cells": [
  {
   "cell_type": "code",
   "execution_count": 3,
   "id": "6b337e4e",
   "metadata": {},
   "outputs": [],
   "source": [
    "from selenium import webdriver as wb\n",
    "from selenium.webdriver.common.by import By\n",
    "from selenium.webdriver.common.keys import Keys\n",
    "import time"
   ]
  },
  {
   "cell_type": "code",
   "execution_count": 4,
   "id": "2b9a4711",
   "metadata": {},
   "outputs": [],
   "source": [
    "driver = wb.Chrome()\n",
    "driver.get(\"https://map.naver.com/p/\")"
   ]
  },
  {
   "cell_type": "code",
   "execution_count": 5,
   "id": "e5ff0487",
   "metadata": {},
   "outputs": [],
   "source": [
    "#1. 검색창에 동명동 맛집 검색\n",
    "# 검색창의 id가 매번 변경된다.\n",
    "# id가 아닌 변하지 않는 선택자가 필요하다 (class)\n",
    "search = driver.find_element(By.CSS_SELECTOR,\".input_search\")\n",
    "search.send_keys(\"동명동맛집\")\n",
    "search.send_keys(Keys.ENTER)"
   ]
  },
  {
   "cell_type": "code",
   "execution_count": 9,
   "id": "7fb9cca7",
   "metadata": {
    "collapsed": true
   },
   "outputs": [
    {
     "data": {
      "text/plain": [
       "[<selenium.webdriver.remote.webelement.WebElement (session=\"5f8f47fcf10a99090d739964becd95dd\", element=\"FBF3A4CE40A07D2EA89C21CAF8C5C5E5_element_647\")>,\n",
       " <selenium.webdriver.remote.webelement.WebElement (session=\"5f8f47fcf10a99090d739964becd95dd\", element=\"FBF3A4CE40A07D2EA89C21CAF8C5C5E5_element_1054\")>,\n",
       " <selenium.webdriver.remote.webelement.WebElement (session=\"5f8f47fcf10a99090d739964becd95dd\", element=\"FBF3A4CE40A07D2EA89C21CAF8C5C5E5_element_1055\")>,\n",
       " <selenium.webdriver.remote.webelement.WebElement (session=\"5f8f47fcf10a99090d739964becd95dd\", element=\"FBF3A4CE40A07D2EA89C21CAF8C5C5E5_element_1056\")>,\n",
       " <selenium.webdriver.remote.webelement.WebElement (session=\"5f8f47fcf10a99090d739964becd95dd\", element=\"FBF3A4CE40A07D2EA89C21CAF8C5C5E5_element_1057\")>,\n",
       " <selenium.webdriver.remote.webelement.WebElement (session=\"5f8f47fcf10a99090d739964becd95dd\", element=\"FBF3A4CE40A07D2EA89C21CAF8C5C5E5_element_1058\")>,\n",
       " <selenium.webdriver.remote.webelement.WebElement (session=\"5f8f47fcf10a99090d739964becd95dd\", element=\"FBF3A4CE40A07D2EA89C21CAF8C5C5E5_element_1059\")>,\n",
       " <selenium.webdriver.remote.webelement.WebElement (session=\"5f8f47fcf10a99090d739964becd95dd\", element=\"FBF3A4CE40A07D2EA89C21CAF8C5C5E5_element_1060\")>,\n",
       " <selenium.webdriver.remote.webelement.WebElement (session=\"5f8f47fcf10a99090d739964becd95dd\", element=\"FBF3A4CE40A07D2EA89C21CAF8C5C5E5_element_1061\")>,\n",
       " <selenium.webdriver.remote.webelement.WebElement (session=\"5f8f47fcf10a99090d739964becd95dd\", element=\"FBF3A4CE40A07D2EA89C21CAF8C5C5E5_element_1062\")>]"
      ]
     },
     "execution_count": 9,
     "metadata": {},
     "output_type": "execute_result"
    }
   ],
   "source": [
    "# 가게 이름을 클릭해서 디테일 정보를 확인\n",
    "# 접근이 불가능한 이유는 iframe속의 데이터이기 때문에\n",
    "title = driver.find_elements(By.CSS_SELECTOR,\"#_pcmap_list_scroll_container > ul > li > div.CHC5F > a > div > div\")\n",
    "title"
   ]
  },
  {
   "cell_type": "code",
   "execution_count": 8,
   "id": "657e5f66",
   "metadata": {},
   "outputs": [],
   "source": [
    "# 원본데이터에서 원하는 iframe데이터로 변경\n",
    "driver.switch_to.frame(\"searchIframe\")"
   ]
  },
  {
   "cell_type": "code",
   "execution_count": 10,
   "id": "e060a6f5",
   "metadata": {},
   "outputs": [],
   "source": [
    "# 첫번째 가게 이름을 클릭 -> 상세정보\n",
    "title[0].click()"
   ]
  },
  {
   "cell_type": "code",
   "execution_count": 15,
   "id": "0ade89a9",
   "metadata": {},
   "outputs": [
    {
     "data": {
      "text/plain": [
       "'아우르 광주동명본점'"
      ]
     },
     "execution_count": 15,
     "metadata": {},
     "output_type": "execute_result"
    }
   ],
   "source": [
    "# 상세정보의 가게 명을 수집\n",
    "# 상세정보페이지도 새로운 iframe이여서 접근이 불가능\n",
    "title_detail = driver.find_element(By.CSS_SELECTOR,\"#_title > div > span.Fc1rA\")\n",
    "title_detail.text"
   ]
  },
  {
   "cell_type": "code",
   "execution_count": 13,
   "id": "0d5eb148",
   "metadata": {},
   "outputs": [],
   "source": [
    "# 상세정보 프레임으로 변경\n",
    "# iframe에서 다른 iframe의 이동이 불가능 -> 서로 모르는 사이이기 때문에\n",
    "# 해결책 -> 원본 데이터로 이동 후 -> 다시 새로운 iframe으로 이동\n",
    "driver.switch_to.default_content()\n",
    "driver.switch_to.frame(\"entryIframe\")"
   ]
  },
  {
   "cell_type": "code",
   "execution_count": 17,
   "id": "321e3baa",
   "metadata": {},
   "outputs": [],
   "source": [
    "driver.switch_to.default_content()\n",
    "driver.switch_to.frame(\"searchIframe\")\n",
    "title[1].click()"
   ]
  },
  {
   "cell_type": "code",
   "execution_count": null,
   "id": "0faff17e",
   "metadata": {},
   "outputs": [],
   "source": []
  }
 ],
 "metadata": {
  "kernelspec": {
   "display_name": "Python 3 (ipykernel)",
   "language": "python",
   "name": "python3"
  },
  "language_info": {
   "codemirror_mode": {
    "name": "ipython",
    "version": 3
   },
   "file_extension": ".py",
   "mimetype": "text/x-python",
   "name": "python",
   "nbconvert_exporter": "python",
   "pygments_lexer": "ipython3",
   "version": "3.11.5"
  }
 },
 "nbformat": 4,
 "nbformat_minor": 5
}
