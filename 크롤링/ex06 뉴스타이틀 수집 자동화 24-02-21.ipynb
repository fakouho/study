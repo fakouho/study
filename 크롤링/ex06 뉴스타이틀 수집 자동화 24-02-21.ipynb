{
 "cells": [
  {
   "cell_type": "code",
   "execution_count": 1,
   "id": "0677e2cd",
   "metadata": {},
   "outputs": [],
   "source": [
    "# 1. 브라우저 역할을 하는 라이브러리\n",
    "from selenium import webdriver as wb\n",
    "# 2. 컴퓨터용 키보드 라이브러리\n",
    "from selenium.webdriver.common.keys import Keys \n",
    "# 3. 선택자를 구분지어 주는 라이브러리\n",
    "from selenium.webdriver.common.by import By"
   ]
  },
  {
   "cell_type": "code",
   "execution_count": 2,
   "id": "d63b96de",
   "metadata": {},
   "outputs": [],
   "source": [
    "#1. 브라우저를 실행해서 naver 페이지로 이동\n",
    "driver=wb.Chrome()\n",
    "driver.get(\"https://www.naver.com/\")"
   ]
  },
  {
   "cell_type": "code",
   "execution_count": 3,
   "id": "1c94b2e5",
   "metadata": {},
   "outputs": [],
   "source": [
    "#2. 검색창에 \"이강인\"검색 후, 엔터 쳐서 내용 보기\n",
    "search=driver.find_element(By.ID,\"query\")\n",
    "search.send_keys(\"이강인\")\n",
    "search.send_keys(Keys.ENTER)"
   ]
  },
  {
   "cell_type": "code",
   "execution_count": 30,
   "id": "b8980b79",
   "metadata": {},
   "outputs": [],
   "source": [
    "#3. 상단에 뉴스 탭을 클릭\n",
    "#driver.find_element(By.CSS_SELECTOR,\"#lnb > div.lnb_group > div > div.lnb_nav_area._nav_area_root > div > div.api_flicking_wrap._conveyer_root > div:nth-child(1) > a\")\n",
    "btn=driver.find_element(By.CSS_SELECTOR,\"#lnb > div.lnb_group > div > div.lnb_nav_area._nav_area_root > div > div.api_flicking_wrap._conveyer_root > div:nth-child(1) > a\")\n",
    "btn.click()"
   ]
  },
  {
   "cell_type": "code",
   "execution_count": 5,
   "id": "fe9e43cc",
   "metadata": {},
   "outputs": [],
   "source": []
  },
  {
   "cell_type": "markdown",
   "id": "04486f25",
   "metadata": {},
   "source": []
  },
  {
   "cell_type": "code",
   "execution_count": null,
   "id": "85d24e4e",
   "metadata": {},
   "outputs": [],
   "source": [
    "#5. 뉴스타이틀을 수집하고 순수한 텍스트 정보가 담긴 리스트 제작"
   ]
  },
  {
   "cell_type": "code",
   "execution_count": 32,
   "id": "2d7f024a",
   "metadata": {},
   "outputs": [],
   "source": [
    "title=driver.find_elements(By.CSS_SELECTOR,\"div.news_wrap.api_ani_send > div > div.news_contents > a.news_tit\")"
   ]
  },
  {
   "cell_type": "code",
   "execution_count": 33,
   "id": "7d667126",
   "metadata": {},
   "outputs": [],
   "source": [
    "title_list = []\n",
    "for i in title :\n",
    "    title_list.append(i.text)"
   ]
  },
  {
   "cell_type": "code",
   "execution_count": 34,
   "id": "f33c6cd7",
   "metadata": {},
   "outputs": [
    {
     "data": {
      "text/plain": [
       "['[속보]이강인, 런던서 손흥민 직접 만나 사죄했다 “절대로 해서는 안될 행동...',\n",
       " '이강인, 런던 찾아 사과 \"해선 안 될 행동 했다\"…손흥민은 포용(종합)',\n",
       " '이강인 \"손흥민에 직접 사과…절대 안될 행동 했다\"',\n",
       " '이강인, 손흥민 찾아가 직접 사과 “절대 해선 안 될 행동”',\n",
       " '\"이강인 잘했다, 역시 대흥민\"...누리꾼 \\'반색\\'',\n",
       " '손흥민 \"강인이가 좋은 선수로 성장하도록 보살필 것\" [전문]',\n",
       " '이강인, 런던 찾아 손흥민에 사과…\"절대로 해선 안될 행동했다\"',\n",
       " '“한국·PSG에 재앙” 佛보도에도…이강인, 웃으며 훈련',\n",
       " '이강인, 영국 런던 가서 손흥민에 직접 사과했다',\n",
       " '음바페, 이강인 생일에 SNS 남긴 메시지는…“생축, 마이 브로”']"
      ]
     },
     "execution_count": 34,
     "metadata": {},
     "output_type": "execute_result"
    }
   ],
   "source": [
    "title_list"
   ]
  },
  {
   "cell_type": "code",
   "execution_count": null,
   "id": "5a8e1263",
   "metadata": {},
   "outputs": [],
   "source": []
  },
  {
   "cell_type": "code",
   "execution_count": null,
   "id": "9f00f8f1",
   "metadata": {},
   "outputs": [],
   "source": []
  },
  {
   "cell_type": "code",
   "execution_count": null,
   "id": "648d1f02",
   "metadata": {},
   "outputs": [],
   "source": []
  },
  {
   "cell_type": "code",
   "execution_count": null,
   "id": "c1ae17a4",
   "metadata": {},
   "outputs": [],
   "source": []
  },
  {
   "cell_type": "code",
   "execution_count": null,
   "id": "76e4e69e",
   "metadata": {},
   "outputs": [],
   "source": []
  },
  {
   "cell_type": "code",
   "execution_count": null,
   "id": "1e2d6a9a",
   "metadata": {},
   "outputs": [],
   "source": []
  },
  {
   "cell_type": "code",
   "execution_count": null,
   "id": "168f038c",
   "metadata": {},
   "outputs": [],
   "source": []
  },
  {
   "cell_type": "code",
   "execution_count": null,
   "id": "f9cb28c1",
   "metadata": {},
   "outputs": [],
   "source": []
  },
  {
   "cell_type": "code",
   "execution_count": null,
   "id": "1fc0a677",
   "metadata": {},
   "outputs": [],
   "source": []
  },
  {
   "cell_type": "code",
   "execution_count": null,
   "id": "664dec2b",
   "metadata": {},
   "outputs": [],
   "source": []
  },
  {
   "cell_type": "code",
   "execution_count": null,
   "id": "d36d822b",
   "metadata": {},
   "outputs": [],
   "source": []
  },
  {
   "cell_type": "code",
   "execution_count": null,
   "id": "6a38d35e",
   "metadata": {},
   "outputs": [],
   "source": []
  }
 ],
 "metadata": {
  "kernelspec": {
   "display_name": "Python 3 (ipykernel)",
   "language": "python",
   "name": "python3"
  },
  "language_info": {
   "codemirror_mode": {
    "name": "ipython",
    "version": 3
   },
   "file_extension": ".py",
   "mimetype": "text/x-python",
   "name": "python",
   "nbconvert_exporter": "python",
   "pygments_lexer": "ipython3",
   "version": "3.11.5"
  }
 },
 "nbformat": 4,
 "nbformat_minor": 5
}
