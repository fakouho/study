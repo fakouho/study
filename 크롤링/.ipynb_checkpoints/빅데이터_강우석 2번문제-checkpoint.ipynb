{
 "cells": [
  {
   "cell_type": "code",
   "execution_count": 5,
   "id": "69fcaabc",
   "metadata": {},
   "outputs": [],
   "source": [
    "from selenium import webdriver as wb\n",
    "from selenium.webdriver.common.keys import Keys\n",
    "from selenium.webdriver.common.by import By"
   ]
  },
  {
   "cell_type": "code",
   "execution_count": 20,
   "id": "7266a103",
   "metadata": {},
   "outputs": [],
   "source": [
    "driver=wb.Chrome()"
   ]
  },
  {
   "cell_type": "code",
   "execution_count": 21,
   "id": "8c63a6e9",
   "metadata": {},
   "outputs": [],
   "source": [
    "driver.get(\"http://www.naver.com\")"
   ]
  },
  {
   "cell_type": "code",
   "execution_count": 22,
   "id": "0b7b7637",
   "metadata": {},
   "outputs": [],
   "source": [
    "search=driver.find_element(By.ID,\"query\")"
   ]
  },
  {
   "cell_type": "code",
   "execution_count": 23,
   "id": "7797c857",
   "metadata": {},
   "outputs": [],
   "source": [
    "search.send_keys(\"크롤링\")"
   ]
  },
  {
   "cell_type": "code",
   "execution_count": 24,
   "id": "b848914c",
   "metadata": {},
   "outputs": [],
   "source": [
    "search.send_keys(Keys.ENTER)"
   ]
  },
  {
   "cell_type": "code",
   "execution_count": null,
   "id": "015a1704",
   "metadata": {},
   "outputs": [],
   "source": []
  }
 ],
 "metadata": {
  "kernelspec": {
   "display_name": "Python 3 (ipykernel)",
   "language": "python",
   "name": "python3"
  },
  "language_info": {
   "codemirror_mode": {
    "name": "ipython",
    "version": 3
   },
   "file_extension": ".py",
   "mimetype": "text/x-python",
   "name": "python",
   "nbconvert_exporter": "python",
   "pygments_lexer": "ipython3",
   "version": "3.11.5"
  }
 },
 "nbformat": 4,
 "nbformat_minor": 5
}
