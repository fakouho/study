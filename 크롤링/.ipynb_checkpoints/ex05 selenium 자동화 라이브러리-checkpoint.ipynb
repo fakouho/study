{
 "cells": [
  {
   "cell_type": "code",
   "execution_count": 5,
   "id": "2353a4cb",
   "metadata": {
    "collapsed": true
   },
   "outputs": [
    {
     "name": "stdout",
     "output_type": "stream",
     "text": [
      "Requirement already satisfied: selenium in c:\\users\\smhrd\\anaconda3\\lib\\site-packages (4.18.1)\n",
      "Requirement already satisfied: urllib3[socks]<3,>=1.26 in c:\\users\\smhrd\\anaconda3\\lib\\site-packages (from selenium) (1.26.16)\n",
      "Requirement already satisfied: trio~=0.17 in c:\\users\\smhrd\\anaconda3\\lib\\site-packages (from selenium) (0.24.0)\n",
      "Requirement already satisfied: trio-websocket~=0.9 in c:\\users\\smhrd\\anaconda3\\lib\\site-packages (from selenium) (0.11.1)\n",
      "Requirement already satisfied: certifi>=2021.10.8 in c:\\users\\smhrd\\anaconda3\\lib\\site-packages (from selenium) (2023.7.22)\n",
      "Requirement already satisfied: typing_extensions>=4.9.0 in c:\\users\\smhrd\\anaconda3\\lib\\site-packages (from selenium) (4.9.0)\n",
      "Requirement already satisfied: attrs>=20.1.0 in c:\\users\\smhrd\\anaconda3\\lib\\site-packages (from trio~=0.17->selenium) (22.1.0)\n",
      "Requirement already satisfied: sortedcontainers in c:\\users\\smhrd\\anaconda3\\lib\\site-packages (from trio~=0.17->selenium) (2.4.0)\n",
      "Requirement already satisfied: idna in c:\\users\\smhrd\\anaconda3\\lib\\site-packages (from trio~=0.17->selenium) (3.4)\n",
      "Requirement already satisfied: outcome in c:\\users\\smhrd\\anaconda3\\lib\\site-packages (from trio~=0.17->selenium) (1.3.0.post0)\n",
      "Requirement already satisfied: sniffio>=1.3.0 in c:\\users\\smhrd\\anaconda3\\lib\\site-packages (from trio~=0.17->selenium) (1.3.0)\n",
      "Requirement already satisfied: cffi>=1.14 in c:\\users\\smhrd\\anaconda3\\lib\\site-packages (from trio~=0.17->selenium) (1.15.1)\n",
      "Requirement already satisfied: wsproto>=0.14 in c:\\users\\smhrd\\anaconda3\\lib\\site-packages (from trio-websocket~=0.9->selenium) (1.2.0)\n",
      "Requirement already satisfied: PySocks!=1.5.7,<2.0,>=1.5.6 in c:\\users\\smhrd\\anaconda3\\lib\\site-packages (from urllib3[socks]<3,>=1.26->selenium) (1.7.1)\n",
      "Requirement already satisfied: pycparser in c:\\users\\smhrd\\anaconda3\\lib\\site-packages (from cffi>=1.14->trio~=0.17->selenium) (2.21)\n",
      "Requirement already satisfied: h11<1,>=0.9.0 in c:\\users\\smhrd\\anaconda3\\lib\\site-packages (from wsproto>=0.14->trio-websocket~=0.9->selenium) (0.14.0)\n"
     ]
    }
   ],
   "source": [
    "# 라이브러리 설치\n",
    "# 라이브러리 설치는 한번만 진행 (pc바뀐 경우에는 새로 설치)\n",
    "!pip install selenium "
   ]
  },
  {
   "cell_type": "code",
   "execution_count": 26,
   "id": "2bb7b28b",
   "metadata": {},
   "outputs": [],
   "source": [
    "# 1. 브라우저 역할을 하는 라이브러리\n",
    "from selenium import webdriver as wb\n",
    "# 2. 컴퓨터용 키보드 라이브러리\n",
    "from selenium.webdriver.common.keys import Keys \n",
    "# 3. 선택자를 구분지어 주는 라이브러리\n",
    "from selenium.webdriver.common.by import By"
   ]
  },
  {
   "cell_type": "code",
   "execution_count": 51,
   "id": "abe358d2",
   "metadata": {},
   "outputs": [],
   "source": [
    "# 1. 크롬창을 실행\n",
    "# Chrome('크롬 드라이버 경로')<- 구버전\n",
    "# 구버전은 크로믇라이버를 설치하라 나오지만 신버전은 자동으로 설치가 된다.\n",
    "# 그럼으로 크롬드라이버 설치시 충돌 발생 -> 크롬드라이버 삭제\n",
    "driver=wb.Chrome()"
   ]
  },
  {
   "cell_type": "code",
   "execution_count": 52,
   "id": "623fe60d",
   "metadata": {},
   "outputs": [],
   "source": [
    "#2. 네이버 페이지 요청\n",
    "driver.get(\"http://www.naver.com\")"
   ]
  },
  {
   "cell_type": "code",
   "execution_count": 44,
   "id": "0fdea564",
   "metadata": {},
   "outputs": [],
   "source": [
    "#3. 검색창찾기\n",
    "search=driver.find_element(By.ID,\"query\")"
   ]
  },
  {
   "cell_type": "code",
   "execution_count": 45,
   "id": "66725d5b",
   "metadata": {},
   "outputs": [],
   "source": [
    "#4. 검색창에 '이강인'값을 보내줘~\n",
    "search.send_keys(\"이강인\")\n",
    "#변수.보낸다_검색창"
   ]
  },
  {
   "cell_type": "code",
   "execution_count": 46,
   "id": "17a50ed7",
   "metadata": {},
   "outputs": [],
   "source": [
    "#4.1 ENTER 눌러보기\n",
    " search.send_keys(Keys.ENTER)\n",
    "#검색창에보낸다키값을카보드로앤터"
   ]
  },
  {
   "cell_type": "code",
   "execution_count": 53,
   "id": "ef33a96f",
   "metadata": {},
   "outputs": [],
   "source": [
    "#5. 화면의 스크롤을 최하단으로 이동\n",
    "# body태그에게 키보드의 END값을 보내기\n",
    "body=driver.find_element(By.TAG_NAME,'body')\n",
    "body.send_keys(Keys.END)"
   ]
  },
  {
   "cell_type": "code",
   "execution_count": 33,
   "id": "2eaeab2b",
   "metadata": {},
   "outputs": [],
   "source": [
    "#6. 뒤로가기 \n",
    "driver.back()"
   ]
  },
  {
   "cell_type": "code",
   "execution_count": 34,
   "id": "249744e8",
   "metadata": {},
   "outputs": [],
   "source": [
    "#7. 검색창에 손흥민 검색\n",
    "# 페이지가 비뀌면 모든 데이터가 초기화 -> 태그,요소를 반드시 다시 찾아줘야한다.\n",
    "# 클라이언트가 서버에게 새로운 요청을 보내면, 서버는 새로운 데이터를 리턴\n",
    "search=driver.find_element(By.ID,\"query\")\n",
    "search.send_keys(\"손흥민\")"
   ]
  },
  {
   "cell_type": "code",
   "execution_count": 36,
   "id": "9048790b",
   "metadata": {},
   "outputs": [],
   "source": [
    "#8. 검색버튼 클릭\n",
    "# 선택자를 구분지을때 가장 많이 사용되는 건 CSS_SELCTOR -> 선택자를 그냥 입력\n",
    "btn = driver.find_element(By.CSS_SELECTOR,\"#sform > fieldset > button\")\n",
    "btn.click()"
   ]
  },
  {
   "cell_type": "code",
   "execution_count": 39,
   "id": "8c0f07d9",
   "metadata": {},
   "outputs": [],
   "source": [
    "#9. 창을 종료 \n",
    "driver.close()"
   ]
  },
  {
   "cell_type": "code",
   "execution_count": 49,
   "id": "ebb08715",
   "metadata": {},
   "outputs": [],
   "source": [
    "#10, 글자 수집\n",
    "title=driver.find_elements(By.CSS_SELECTOR,\"div.news_wrap.api_ani_send > div > div.news_contents > a.news_tit\")"
   ]
  },
  {
   "cell_type": "code",
   "execution_count": 50,
   "id": "d9a5d1f6",
   "metadata": {},
   "outputs": [
    {
     "name": "stdout",
     "output_type": "stream",
     "text": [
      "'하극상 논란' 이강인, 소속팀서 밝은 미소…PSG \"생일 축하해\"\n",
      "음바페, 이강인 생일에 SNS 남긴 메시지는…“생축, 마이 브로”\n",
      "아라치 치킨, 이강인과 모델 계약 연장 안 한다\n",
      "\"이강인 PSG서 방출, FIFA는 이적 금지\"…가짜뉴스 확산\n"
     ]
    }
   ],
   "source": [
    "#11.순수한 텍스트만 출력\n",
    "for i in title :\n",
    "    print(i.text)"
   ]
  },
  {
   "cell_type": "code",
   "execution_count": null,
   "id": "e839786b",
   "metadata": {},
   "outputs": [],
   "source": []
  },
  {
   "cell_type": "code",
   "execution_count": null,
   "id": "91fa02be",
   "metadata": {},
   "outputs": [],
   "source": []
  },
  {
   "cell_type": "code",
   "execution_count": null,
   "id": "eb94de81",
   "metadata": {},
   "outputs": [],
   "source": []
  },
  {
   "cell_type": "code",
   "execution_count": null,
   "id": "81a382eb",
   "metadata": {},
   "outputs": [],
   "source": []
  },
  {
   "cell_type": "code",
   "execution_count": null,
   "id": "f6bd678f",
   "metadata": {},
   "outputs": [],
   "source": []
  },
  {
   "cell_type": "code",
   "execution_count": null,
   "id": "101dd3ff",
   "metadata": {},
   "outputs": [],
   "source": []
  }
 ],
 "metadata": {
  "kernelspec": {
   "display_name": "Python 3 (ipykernel)",
   "language": "python",
   "name": "python3"
  },
  "language_info": {
   "codemirror_mode": {
    "name": "ipython",
    "version": 3
   },
   "file_extension": ".py",
   "mimetype": "text/x-python",
   "name": "python",
   "nbconvert_exporter": "python",
   "pygments_lexer": "ipython3",
   "version": "3.11.5"
  }
 },
 "nbformat": 4,
 "nbformat_minor": 5
}
