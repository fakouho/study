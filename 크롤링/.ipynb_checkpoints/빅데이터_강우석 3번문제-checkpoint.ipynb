{
 "cells": [
  {
   "cell_type": "code",
   "execution_count": 25,
   "id": "567cbf78",
   "metadata": {},
   "outputs": [],
   "source": [
    "from selenium import webdriver as wb\n",
    "from selenium.webdriver.common.by import By\n",
    "import time\n",
    "import pandas as pd\n",
    "from tqdm.notebook import tqdm"
   ]
  },
  {
   "cell_type": "code",
   "execution_count": 34,
   "id": "85505206",
   "metadata": {},
   "outputs": [],
   "source": [
    "driver=wb.Chrome()"
   ]
  },
  {
   "cell_type": "code",
   "execution_count": 35,
   "id": "2c9e8b45",
   "metadata": {},
   "outputs": [],
   "source": [
    "driver.get(\"http://corners.gmarket.co.kr/Bestsellers\")"
   ]
  },
  {
   "cell_type": "code",
   "execution_count": 36,
   "id": "52e8d76f",
   "metadata": {},
   "outputs": [
    {
     "data": {
      "application/vnd.jupyter.widget-view+json": {
       "model_id": "dd131abbd95949bd972570f592a468a1",
       "version_major": 2,
       "version_minor": 0
      },
      "text/plain": [
       "  0%|          | 0/20 [00:00<?, ?it/s]"
      ]
     },
     "metadata": {},
     "output_type": "display_data"
    }
   ],
   "source": [
    "title_list = []\n",
    "price_list = []\n",
    "for i in tqdm(range(20)):\n",
    "    img = driver.find_elements(By.CSS_SELECTOR,\"#gBestWrap > div.best-list > ul > li > div.thumb > a > img\")\n",
    "    img[i].click()\n",
    "    time.sleep(1)\n",
    "   \n",
    "    title = driver.find_element(By.CSS_SELECTOR,\"#itemcase_basic > div.box__item-title > h1\")\n",
    "    try : \n",
    "        price = driver.find_element(By.CSS_SELECTOR,\"#itemcase_basic > div.box__item-title > div.price > span.price_innerwrap.price_innerwrap-coupon > strong\")\n",
    "    except :\n",
    "        price = driver.find_element(By.CSS_SELECTOR,\"#itemcase_basic > div.box__item-title > div.price > span.price_innerwrap > strong\")\n",
    "    \n",
    "\n",
    "    title_list.append(title.text)\n",
    "    price_list.append(price.text)\n",
    "    driver.back()\n",
    "    time.sleep(1)"
   ]
  },
  {
   "cell_type": "code",
   "execution_count": 42,
   "id": "de7bb1ae",
   "metadata": {},
   "outputs": [],
   "source": [
    "dic={\"상품이름\":title_list,\"상품가격\":price_list}\n"
   ]
  },
  {
   "cell_type": "code",
   "execution_count": 49,
   "id": "1f7b8c36",
   "metadata": {},
   "outputs": [
    {
     "data": {
      "text/html": [
       "<div>\n",
       "<style scoped>\n",
       "    .dataframe tbody tr th:only-of-type {\n",
       "        vertical-align: middle;\n",
       "    }\n",
       "\n",
       "    .dataframe tbody tr th {\n",
       "        vertical-align: top;\n",
       "    }\n",
       "\n",
       "    .dataframe thead th {\n",
       "        text-align: right;\n",
       "    }\n",
       "</style>\n",
       "<table border=\"1\" class=\"dataframe\">\n",
       "  <thead>\n",
       "    <tr style=\"text-align: right;\">\n",
       "      <th></th>\n",
       "      <th>상품이름</th>\n",
       "      <th>상품가격</th>\n",
       "    </tr>\n",
       "  </thead>\n",
       "  <tbody>\n",
       "    <tr>\n",
       "      <th>1</th>\n",
       "      <td>(15%+5%쿠폰) 브이빈 겨울마감+봄맞이 BEST신상 데일리룩/가디건/니트/자켓/...</td>\n",
       "      <td>8,000원</td>\n",
       "    </tr>\n",
       "    <tr>\n",
       "      <th>2</th>\n",
       "      <td>(최종2.3만)차이슨 헤어 드라이어 드라이기+노즐5개</td>\n",
       "      <td>23,900원</td>\n",
       "    </tr>\n",
       "    <tr>\n",
       "      <th>3</th>\n",
       "      <td>한성기업 크래미 몬스터크랩 72g X 15개</td>\n",
       "      <td>13,430원</td>\n",
       "    </tr>\n",
       "    <tr>\n",
       "      <th>4</th>\n",
       "      <td>(유니버스클럽 전용 쿠폰적용가 5천원) 메가박스 일반예매권 2D-주중/주말</td>\n",
       "      <td>15,000원</td>\n",
       "    </tr>\n",
       "    <tr>\n",
       "      <th>5</th>\n",
       "      <td>(선)브래비 유니 TRAINING SET F-ZIP N231UFT010</td>\n",
       "      <td>79,470원</td>\n",
       "    </tr>\n",
       "    <tr>\n",
       "      <th>6</th>\n",
       "      <td>(선)브래비 유니 TRAINING SET F-ZIP N231UFT010</td>\n",
       "      <td>79,470원</td>\n",
       "    </tr>\n",
       "    <tr>\n",
       "      <th>7</th>\n",
       "      <td>15%+10% 버블트리 봄신상 스쿨룩 베이비페어 특가전</td>\n",
       "      <td>11,250원</td>\n",
       "    </tr>\n",
       "    <tr>\n",
       "      <th>8</th>\n",
       "      <td>BSP D9 휴대용 모바일 게이밍 컨트롤러 안드로이드 아이폰 태블릿 스위치 PC 윈...</td>\n",
       "      <td>32,700원</td>\n",
       "    </tr>\n",
       "    <tr>\n",
       "      <th>9</th>\n",
       "      <td>멸균우유 200ml 24입+24입 (2박스)</td>\n",
       "      <td>24,980원</td>\n",
       "    </tr>\n",
       "    <tr>\n",
       "      <th>10</th>\n",
       "      <td>수퍼맘스토리카페/총 120종의 대작/보카사이언스/Visual Literacy/Tal...</td>\n",
       "      <td>178,800원</td>\n",
       "    </tr>\n",
       "    <tr>\n",
       "      <th>11</th>\n",
       "      <td>하기스 맥스드라이 밴드/팬티 기저귀 1박스 모음전</td>\n",
       "      <td>49,920원</td>\n",
       "    </tr>\n",
       "    <tr>\n",
       "      <th>12</th>\n",
       "      <td>포스트 아몬드후레이크 620gx3 +밀폐용기2P(증정)</td>\n",
       "      <td>13,590원</td>\n",
       "    </tr>\n",
       "    <tr>\n",
       "      <th>13</th>\n",
       "      <td>(15+5%쿠폰)비비안 비너스 외 고탄력 팬티 스타킹 10매 7매 벌크 학생 압박 ...</td>\n",
       "      <td>8,730원</td>\n",
       "    </tr>\n",
       "    <tr>\n",
       "      <th>14</th>\n",
       "      <td>((15+5%쿠폰 오늘만 역마진SALE)) 데이뮤즈 봄신상 트렌치코트/점퍼/자켓/팬...</td>\n",
       "      <td>10,970원</td>\n",
       "    </tr>\n",
       "    <tr>\n",
       "      <th>15</th>\n",
       "      <td>(15%+5%쿠폰+무료반품) 홈쇼핑 1+1.SET 니트/팬츠/패딩 외 그렌 코튼모달...</td>\n",
       "      <td>9,280원</td>\n",
       "    </tr>\n",
       "    <tr>\n",
       "      <th>16</th>\n",
       "      <td>제주삼다수 무라벨 2L 24병 /생수전문배송</td>\n",
       "      <td>22,800원</td>\n",
       "    </tr>\n",
       "    <tr>\n",
       "      <th>17</th>\n",
       "      <td>여수사나이 국내산 돌산갓김치 1.5kg 남도김치 산지직송 당일생산</td>\n",
       "      <td>9,350원</td>\n",
       "    </tr>\n",
       "    <tr>\n",
       "      <th>18</th>\n",
       "      <td>바브키즈 10+15% 쿠폰 봄상품 출시 상하복 모음</td>\n",
       "      <td>8,370원</td>\n",
       "    </tr>\n",
       "    <tr>\n",
       "      <th>19</th>\n",
       "      <td>혜택가 38만원대 LG전자 휘센 제습기 20L 블루 DQ202PBBC 빠른배송</td>\n",
       "      <td>418,270</td>\n",
       "    </tr>\n",
       "    <tr>\n",
       "      <th>20</th>\n",
       "      <td>못난이 한라봉 4.5kg 혼합과 벌크포장</td>\n",
       "      <td>19,010원</td>\n",
       "    </tr>\n",
       "  </tbody>\n",
       "</table>\n",
       "</div>"
      ],
      "text/plain": [
       "                                                 상품이름      상품가격\n",
       "1   (15%+5%쿠폰) 브이빈 겨울마감+봄맞이 BEST신상 데일리룩/가디건/니트/자켓/...    8,000원\n",
       "2                       (최종2.3만)차이슨 헤어 드라이어 드라이기+노즐5개   23,900원\n",
       "3                            한성기업 크래미 몬스터크랩 72g X 15개   13,430원\n",
       "4           (유니버스클럽 전용 쿠폰적용가 5천원) 메가박스 일반예매권 2D-주중/주말   15,000원\n",
       "5             (선)브래비 유니 TRAINING SET F-ZIP N231UFT010   79,470원\n",
       "6             (선)브래비 유니 TRAINING SET F-ZIP N231UFT010   79,470원\n",
       "7                      15%+10% 버블트리 봄신상 스쿨룩 베이비페어 특가전   11,250원\n",
       "8   BSP D9 휴대용 모바일 게이밍 컨트롤러 안드로이드 아이폰 태블릿 스위치 PC 윈...   32,700원\n",
       "9                            멸균우유 200ml 24입+24입 (2박스)   24,980원\n",
       "10  수퍼맘스토리카페/총 120종의 대작/보카사이언스/Visual Literacy/Tal...  178,800원\n",
       "11                        하기스 맥스드라이 밴드/팬티 기저귀 1박스 모음전   49,920원\n",
       "12                     포스트 아몬드후레이크 620gx3 +밀폐용기2P(증정)   13,590원\n",
       "13  (15+5%쿠폰)비비안 비너스 외 고탄력 팬티 스타킹 10매 7매 벌크 학생 압박 ...    8,730원\n",
       "14  ((15+5%쿠폰 오늘만 역마진SALE)) 데이뮤즈 봄신상 트렌치코트/점퍼/자켓/팬...   10,970원\n",
       "15  (15%+5%쿠폰+무료반품) 홈쇼핑 1+1.SET 니트/팬츠/패딩 외 그렌 코튼모달...    9,280원\n",
       "16                           제주삼다수 무라벨 2L 24병 /생수전문배송   22,800원\n",
       "17               여수사나이 국내산 돌산갓김치 1.5kg 남도김치 산지직송 당일생산    9,350원\n",
       "18                       바브키즈 10+15% 쿠폰 봄상품 출시 상하복 모음    8,370원\n",
       "19        혜택가 38만원대 LG전자 휘센 제습기 20L 블루 DQ202PBBC 빠른배송   418,270\n",
       "20                             못난이 한라봉 4.5kg 혼합과 벌크포장   19,010원"
      ]
     },
     "execution_count": 49,
     "metadata": {},
     "output_type": "execute_result"
    }
   ],
   "source": [
    "pd.DataFrame(dic,index=range(1,len(title_list)+1))"
   ]
  },
  {
   "cell_type": "code",
   "execution_count": null,
   "id": "07f63aff",
   "metadata": {},
   "outputs": [],
   "source": []
  }
 ],
 "metadata": {
  "kernelspec": {
   "display_name": "Python 3 (ipykernel)",
   "language": "python",
   "name": "python3"
  },
  "language_info": {
   "codemirror_mode": {
    "name": "ipython",
    "version": 3
   },
   "file_extension": ".py",
   "mimetype": "text/x-python",
   "name": "python",
   "nbconvert_exporter": "python",
   "pygments_lexer": "ipython3",
   "version": "3.11.5"
  }
 },
 "nbformat": 4,
 "nbformat_minor": 5
}
