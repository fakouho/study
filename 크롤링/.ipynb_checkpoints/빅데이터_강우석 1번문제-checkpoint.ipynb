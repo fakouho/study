{
 "cells": [
  {
   "cell_type": "markdown",
   "id": "15a71621",
   "metadata": {},
   "source": [
    "# 필기답안지"
   ]
  },
  {
   "cell_type": "markdown",
   "id": "83cc0e28",
   "metadata": {},
   "source": [
    "## 문제 1번\n",
    "- 1 : a\n",
    "- 2 : b\n",
    "- 3 : d\n",
    "- 4 : e"
   ]
  },
  {
   "cell_type": "markdown",
   "id": "90d7e310",
   "metadata": {},
   "source": [
    "## 문제 2번\n",
    "- 개념 =웹 페이지의 데이터를 추출하는 행위\n",
    "- 필요성 =빠른시간 안에 대량의 정보를 수집할수 있게 해준다."
   ]
  },
  {
   "cell_type": "markdown",
   "id": "b42957ee",
   "metadata": {},
   "source": [
    "## 문제 3번\n",
    "- 답안 :수집한 데이터를 html파일로 변환하여 컴퓨터가 이해할수 있도록 만들어 주는 라이브러리"
   ]
  },
  {
   "cell_type": "markdown",
   "id": "269e7565",
   "metadata": {},
   "source": [
    "## 문제 4번\n",
    "- 1 : find_element(By.CSS_SELECTOR) :선택자와 일치한 웹 페이지의 단일 요소 반환 \n",
    "- 2 : find_elements(By.CSS_SELECTOR) :선택자와 일치한 웹 페이지의 모든 요소를 반환"
   ]
  },
  {
   "cell_type": "markdown",
   "id": "2e728a50",
   "metadata": {},
   "source": [
    "## 문제 5번\n",
    "- soup = bs(res.text, ‘lxml’)\n",
    "- crawling = soup.select_one(selector_ )\n",
    "- print(crawling.(crawling.))\n"
   ]
  },
  {
   "cell_type": "code",
   "execution_count": null,
   "id": "fb97be3a",
   "metadata": {},
   "outputs": [],
   "source": []
  }
 ],
 "metadata": {
  "kernelspec": {
   "display_name": "Python 3 (ipykernel)",
   "language": "python",
   "name": "python3"
  },
  "language_info": {
   "codemirror_mode": {
    "name": "ipython",
    "version": 3
   },
   "file_extension": ".py",
   "mimetype": "text/x-python",
   "name": "python",
   "nbconvert_exporter": "python",
   "pygments_lexer": "ipython3",
   "version": "3.11.5"
  }
 },
 "nbformat": 4,
 "nbformat_minor": 5
}
