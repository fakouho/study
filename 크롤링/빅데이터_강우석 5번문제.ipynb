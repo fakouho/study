{
 "cells": [
  {
   "cell_type": "code",
   "execution_count": 16,
   "id": "f8a5cfee",
   "metadata": {},
   "outputs": [],
   "source": [
    "from selenium import webdriver as wb\n",
    "from selenium.webdriver.common.by import By\n",
    "import pandas as pd\n",
    "import time "
   ]
  },
  {
   "cell_type": "code",
   "execution_count": 17,
   "id": "0a90dc69",
   "metadata": {},
   "outputs": [],
   "source": [
    "driver=wb.Chrome()\n",
    "driver.get(\"http://www.hsd.co.kr/menu/menu_list\")"
   ]
  },
  {
   "cell_type": "code",
   "execution_count": 18,
   "id": "cdad6283",
   "metadata": {},
   "outputs": [
    {
     "name": "stdout",
     "output_type": "stream",
     "text": [
      "더보기가 완료 됬습니다.\n"
     ]
    }
   ],
   "source": [
    "try :\n",
    "    for i in range(50) :\n",
    "        btm_more=driver.find_element(By.CSS_SELECTOR,\"#btn_more > span > a\")\n",
    "        btm_more.click()\n",
    "        time.sleep(1)\n",
    "except :\n",
    "    print(\"더보기가 완료 됬습니다.\")"
   ]
  },
  {
   "cell_type": "code",
   "execution_count": 26,
   "id": "99b82e30",
   "metadata": {},
   "outputs": [],
   "source": [
    "title=driver.find_elements(By.CSS_SELECTOR,\"div > div.item-text > h4\")"
   ]
  },
  {
   "cell_type": "code",
   "execution_count": 27,
   "id": "ef02eb39",
   "metadata": {},
   "outputs": [],
   "source": [
    "price=driver.find_elements(By.CSS_SELECTOR,\"div > div.item-text > div > strong\")"
   ]
  },
  {
   "cell_type": "code",
   "execution_count": 28,
   "id": "038ad8e3",
   "metadata": {},
   "outputs": [],
   "source": [
    "title_list = []\n",
    "for i in title :\n",
    "    title_list.append(i.text)\n",
    "price_list = []\n",
    "for i in price :\n",
    "    price_list.append(i.text)"
   ]
  },
  {
   "cell_type": "code",
   "execution_count": 29,
   "id": "a2556995",
   "metadata": {},
   "outputs": [],
   "source": [
    "dic={\"이름\":title_list,\"가격\":price_list}"
   ]
  },
  {
   "cell_type": "code",
   "execution_count": 30,
   "id": "0f97cc7a",
   "metadata": {},
   "outputs": [],
   "source": [
    "test = pd.DataFrame(dic, index=range(1,len(title_list)+1))"
   ]
  },
  {
   "cell_type": "code",
   "execution_count": 33,
   "id": "835b2426",
   "metadata": {},
   "outputs": [],
   "source": [
    "test.to_csv(\"문제.csv\",encoding='euc=kr')"
   ]
  },
  {
   "cell_type": "code",
   "execution_count": null,
   "id": "bad1f83f",
   "metadata": {},
   "outputs": [],
   "source": []
  }
 ],
 "metadata": {
  "kernelspec": {
   "display_name": "Python 3 (ipykernel)",
   "language": "python",
   "name": "python3"
  },
  "language_info": {
   "codemirror_mode": {
    "name": "ipython",
    "version": 3
   },
   "file_extension": ".py",
   "mimetype": "text/x-python",
   "name": "python",
   "nbconvert_exporter": "python",
   "pygments_lexer": "ipython3",
   "version": "3.11.5"
  }
 },
 "nbformat": 4,
 "nbformat_minor": 5
}
